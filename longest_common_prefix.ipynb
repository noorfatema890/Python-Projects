{
 "cells": [
  {
   "cell_type": "code",
   "execution_count": 1,
   "id": "efe45688-20dd-4387-b748-cbba08e07b6f",
   "metadata": {},
   "outputs": [
    {
     "name": "stdout",
     "output_type": "stream",
     "text": [
      "ra\n",
      "fl\n",
      "''\n",
      "Not acceptable length\n",
      "Not enough length\n"
     ]
    }
   ],
   "source": [
    "def com_prefix(strs):\n",
    "    if 200>=len(strs)>=1:\n",
    "        prefix = strs[0]\n",
    "        for i in strs[1:]:\n",
    "                if 200>=len(i)>=1:\n",
    "                    while not i.startswith(prefix):\n",
    "                        prefix = prefix[:-1]\n",
    "                        if not prefix:\n",
    "                            return \"''\"\n",
    "                else:\n",
    "                    return 'Not enough length'\n",
    "        return prefix\n",
    "    else:\n",
    "        return 'Not acceptable length'\n",
    "\n",
    "print(com_prefix(['race','rabbit','rabbies']))\n",
    "print(com_prefix([\"flower\",\"flow\",\"flight\"]))\n",
    "print(com_prefix([\"dog\",\"racecar\",\"car\"]))\n",
    "print(com_prefix([]))\n",
    "print(com_prefix(['hello','','heck']))"
   ]
  },
  {
   "cell_type": "code",
   "execution_count": null,
   "id": "6bb5aa76-5501-476b-bf79-14a9f54d0803",
   "metadata": {},
   "outputs": [],
   "source": []
  }
 ],
 "metadata": {
  "kernelspec": {
   "display_name": "Python [conda env:base] *",
   "language": "python",
   "name": "conda-base-py"
  },
  "language_info": {
   "codemirror_mode": {
    "name": "ipython",
    "version": 3
   },
   "file_extension": ".py",
   "mimetype": "text/x-python",
   "name": "python",
   "nbconvert_exporter": "python",
   "pygments_lexer": "ipython3",
   "version": "3.12.7"
  }
 },
 "nbformat": 4,
 "nbformat_minor": 5
}
